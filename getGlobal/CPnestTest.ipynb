{
 "cells": [
  {
   "cell_type": "code",
   "execution_count": 8,
   "metadata": {},
   "outputs": [],
   "source": [
    "import cpnest.model\n",
    "import os\n",
    "import numpy as np\n",
    "\n",
    "class nested(cpnest.model.Model):\n",
    "     \n",
    "    def __init__(self):\n",
    "        self.names = ['A', 'B', 'C', 'D', 'E', 'F', 'G', 'H', 'I', 'J', 'K', 'L', 'M', 'N', 'O']\n",
    "        self.bounds=[(-1, 1), (-1, 1), (-1, 1), (-1, 1), (-1, 1), (-1, 1),(-1, 1),(-1, 1),(-1, 1),(-1, 1),(-1, 1),(-1, 1),(-1, 1),(-1, 1),(-1, 1),]\n",
    "    \n",
    "    def log_likelihood(self,theta):\n",
    "        lnlike = 0\n",
    "        lnlike += -0.5 * theta['A']**2 / 0.1**2\n",
    "        return lnlike\n",
    "        \n",
    "    def log_prior(self, theta):   \n",
    "        if not self.in_bounds(theta): \n",
    "            return -np.inf\n",
    "        else:    \n",
    "            prior = 0\n",
    "            prior += -0.5 * theta['A']**2 / 0.1**2\n",
    "            prior += -0.5 * theta['B']**2 / 0.1**2\n",
    "            prior += -0.5 * theta['C']**2 / 0.1**2\n",
    "            prior += -0.5 * theta['D']**2 / 0.1**2\n",
    "            prior += -0.5 * theta['E']**2 / 0.1**2\n",
    "            prior += -0.5 * theta['F']**2 / 0.1**2\n",
    "            prior += -0.5 * theta['G']**2 / 0.1**2\n",
    "            prior += -0.5 * theta['H']**2 / 0.1**2\n",
    "            prior += -0.5 * theta['I']**2 / 0.1**2\n",
    "            prior += -0.5 * theta['J']**2 / 0.1**2\n",
    "            prior += -0.5 * theta['K']**2 / 0.1**2\n",
    "            prior += -0.5 * theta['L']**2 / 0.1**2\n",
    "            prior += -0.5 * theta['M']**2 / 0.1**2\n",
    "            prior += -0.5 * theta['N']**2 / 0.1**2\n",
    "            return prior\n",
    "    \n",
    "    def __call__(self):\n",
    "     \n",
    "        self.nest = cpnest.CPNest(self, verbose=0, seed=53, nthreads=1, \n",
    "                                  nlive=100, maxmcmc=10000, poolsize=500)\n",
    "        \n",
    "        self.nest.run()\n",
    "        \n",
    "        return self.nest.get_posterior_samples()"
   ]
  },
  {
   "cell_type": "code",
   "execution_count": 9,
   "metadata": {},
   "outputs": [],
   "source": [
    "nest = nested()"
   ]
  },
  {
   "cell_type": "code",
   "execution_count": 10,
   "metadata": {},
   "outputs": [
    {
     "name": "stderr",
     "output_type": "stream",
     "text": [
      "2020-10-22, 03:44:17 - CPNest  : Running with 1 parallel threads\n",
      "2020-10-22, 03:44:51 - CPNest  : Final evidence: -0.35\n",
      "2020-10-22, 03:44:51 - CPNest  : Information: 0.09\n",
      "2020-10-22, 03:44:52 - CPNest  : Sampler process 30568: MCMC samples accumulated = 0\n",
      "2020-10-22, 03:44:52 - CPNest  : Sampler process 30568 - mean acceptance 0.152: exiting\n",
      "2020-10-22, 03:44:52 - CPNest  : Computed log_evidences: (-0.35002733005562375,)\n",
      "2020-10-22, 03:44:52 - CPNest  : Relative weights of input files: [1.0]\n",
      "2020-10-22, 03:44:52 - CPNest  : Relative weights of input files taking into account their length: [1.0]\n",
      "2020-10-22, 03:44:52 - CPNest  : Number of input samples: [371]\n",
      "2020-10-22, 03:44:52 - CPNest  : Expected number of samples from each input file [171]\n",
      "2020-10-22, 03:44:52 - CPNest  : Samples produced: 171\n",
      "2020-10-22, 03:44:52 - CPNest  : Computed log_evidences: (-0.35002733005562375,)\n",
      "2020-10-22, 03:44:52 - CPNest  : Relative weights of input files: [1.0]\n",
      "2020-10-22, 03:44:52 - CPNest  : Relative weights of input files taking into account their length: [1.0]\n",
      "2020-10-22, 03:44:52 - CPNest  : Number of input samples: [371]\n",
      "2020-10-22, 03:44:52 - CPNest  : Expected number of samples from each input file [173]\n",
      "2020-10-22, 03:44:52 - CPNest  : Samples produced: 173\n"
     ]
    }
   ],
   "source": [
    "samples = nest()"
   ]
  },
  {
   "cell_type": "code",
   "execution_count": 11,
   "metadata": {},
   "outputs": [
    {
     "data": {
      "text/plain": [
       "(array([ 5.,  4., 10.,  6.,  5.,  8., 15.,  8., 12., 10., 10., 12., 11.,\n",
       "        11.,  8., 16.,  4.,  9.,  4.,  5.]),\n",
       " array([-0.99889221, -0.90043936, -0.8019865 , -0.70353365, -0.6050808 ,\n",
       "        -0.50662794, -0.40817509, -0.30972224, -0.21126938, -0.11281653,\n",
       "        -0.01436367,  0.08408918,  0.18254203,  0.28099489,  0.37944774,\n",
       "         0.47790059,  0.57635345,  0.6748063 ,  0.77325916,  0.87171201,\n",
       "         0.97016486]),\n",
       " <a list of 20 Patch objects>)"
      ]
     },
     "execution_count": 11,
     "metadata": {},
     "output_type": "execute_result"
    },
    {
     "data": {
      "image/png": "[encoded data removed]",
      "text/plain": [
       "<Figure size 432x288 with 1 Axes>"
      ]
     },
     "metadata": {
      "needs_background": "light"
     },
     "output_type": "display_data"
    }
   ],
   "source": [
    "from matplotlib.pyplot import *\n",
    "hist(samples['O'], bins = 20)"
   ]
  },
  {
   "cell_type": "code",
   "execution_count": 12,
   "metadata": {},
   "outputs": [
    {
     "data": {
      "text/plain": [
       "173"
      ]
     },
     "execution_count": 12,
     "metadata": {},
     "output_type": "execute_result"
    }
   ],
   "source": [
    "len(samples['O'])"
   ]
  },
  {
   "cell_type": "code",
   "execution_count": null,
   "metadata": {},
   "outputs": [],
   "source": []
  },
  {
   "cell_type": "code",
   "execution_count": null,
   "metadata": {},
   "outputs": [],
   "source": []
  }
 ],
 "metadata": {
  "kernelspec": {
   "display_name": "Python 3",
   "language": "python",
   "name": "python3"
  },
  "language_info": {
   "codemirror_mode": {
    "name": "ipython",
    "version": 3
   },
   "file_extension": ".py",
   "mimetype": "text/x-python",
   "name": "python",
   "nbconvert_exporter": "python",
   "pygments_lexer": "ipython3",
   "version": "3.7.5"
  }
 },
 "nbformat": 4,
 "nbformat_minor": 4
}
