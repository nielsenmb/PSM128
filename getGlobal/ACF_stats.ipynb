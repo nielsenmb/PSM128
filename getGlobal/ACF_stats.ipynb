{
 "cells": [
  {
   "cell_type": "code",
   "execution_count": 1,
   "metadata": {},
   "outputs": [],
   "source": [
    "import numpy as np\n",
    "import matplotlib.pyplot as pl"
   ]
  },
  {
   "cell_type": "code",
   "execution_count": 2,
   "metadata": {},
   "outputs": [],
   "source": [
    "def FFT_ACF(x, return_half=True, axis=-1, **kwargs):\n",
    "    \"\"\"Compute the autocorrelation function (ACF) of `x` using NumPy's\n",
    "    fast Fourier transform.  By default, only returns half the ACF.\n",
    "    For the full ACF, use `return_half=False`.\n",
    "\n",
    "    Extra keyword arguments are passed to `numpy.fft.fft` and\n",
    "    `numpy.fft.ifft`.\n",
    "\n",
    "    \"\"\"\n",
    "    F = np.fft.fft(x, axis=axis, **kwargs)\n",
    "    if return_half:\n",
    "        acf = np.real(np.fft.ifft(F*np.conj(F), axis=axis, **kwargs))[:len(F)//2]\n",
    "        return acf\n",
    "    else:\n",
    "        acf = np.real(np.fft.ifft(F*np.conj(F), axis=axis, **kwargs))\n",
    "        return acf"
   ]
  },
  {
   "cell_type": "markdown",
   "metadata": {},
   "source": [
    "Let's experiment with the statistics of auto-correlation functions."
   ]
  },
  {
   "cell_type": "code",
   "execution_count": null,
   "metadata": {},
   "outputs": [],
   "source": [
    "K = 300     # length of each timeseries, 4x the length of ACF\n",
    "N = 10000  # number of samples\n",
    "X = np.random.randn(K, N)\n",
    "P = np.abs(np.fft.rfft(X, axis=0))**2\n",
    "P = P - np.mean(P, axis=0)\n",
    "A = FFT_ACF(P, return_half=True, axis=0)\n",
    "#A /= np.amax(A, axis = 0)\n",
    "c = np.corrcoef(A)"
   ]
  },
  {
   "cell_type": "code",
   "execution_count": null,
   "metadata": {},
   "outputs": [],
   "source": [
    "X.shape, P.shape, A.shape"
   ]
  },
  {
   "cell_type": "code",
   "execution_count": null,
   "metadata": {
    "scrolled": true
   },
   "outputs": [],
   "source": [
    "pl.imshow(c);"
   ]
  },
  {
   "cell_type": "code",
   "execution_count": null,
   "metadata": {},
   "outputs": [],
   "source": [
    "print(np.mean(A, axis=1))\n",
    "print(np.std(A, axis=1))"
   ]
  },
  {
   "cell_type": "code",
   "execution_count": null,
   "metadata": {},
   "outputs": [],
   "source": [
    "print(c) # the mysterious 0.8"
   ]
  },
  {
   "cell_type": "code",
   "execution_count": 4,
   "metadata": {},
   "outputs": [
    {
     "name": "stdout",
     "output_type": "stream",
     "text": [
      "[  10   15   25   40   65  100  150  250  400  650 1000]\n"
     ]
    }
   ],
   "source": [
    "# Ks = np.arange(20, 1001, 30)\n",
    "Ks = np.array([10, 15, 25, 40, 65])\n",
    "Ks = np.hstack([Ks, Ks*10, 1000])\n",
    "print(Ks)"
   ]
  },
  {
   "cell_type": "code",
   "execution_count": 6,
   "metadata": {},
   "outputs": [
    {
     "data": {
      "image/png": "[encoded data removed]",
      "text/plain": [
       "<Figure size 432x288 with 1 Axes>"
      ]
     },
     "metadata": {
      "needs_background": "light"
     },
     "output_type": "display_data"
    }
   ],
   "source": [
    "means = Ks*0\n",
    "stds = Ks*0\n",
    "\n",
    "N = 10000  # number of samples\n",
    "\n",
    "for i, K in enumerate(Ks):\n",
    "    p = np.random.exponential(size=(K, N))         # make N power spectra of length K\n",
    "    p -= np.mean(p, axis = 0)\n",
    "    A = FFT_ACF(p, return_half=True, axis=0)       # compute their ACFs\n",
    "    means[i] = np.median(np.mean(A[1:], axis=1))   # median mean of the ACFs\n",
    "    stds[i] = np.median(np.std(A[1:], axis=1))     # median stdev of ACFs\n",
    "\n",
    "pl.loglog(Ks, means, 'o', color='C0', label='means')\n",
    "pl.loglog(Ks, Ks, '--', color='C0')               # mean is on average equal to length K\n",
    "pl.loglog(Ks, stds, 'o', color='C1', label='stds')\n",
    "pl.loglog(Ks, np.sqrt(5*Ks), '--', color='C1')    # variance is on average equal to 5*K\n",
    "pl.xlabel('size of power spectrum Ks')\n",
    "pl.title('ACF');"
   ]
  },
  {
   "cell_type": "code",
   "execution_count": null,
   "metadata": {},
   "outputs": [],
   "source": [
    "means = 0*Ks\n",
    "stds = 0*Ks\n",
    "\n",
    "for i, K in enumerate(Ks):\n",
    "    p = np.random.exponential(size=(K, N))    # make N power spectra of length K\n",
    "    A = FFT_ACF(p, return_half=True, axis=0)  # compute their ACFs\n",
    "    X = np.sum(A, axis=0)                     # collapse them\n",
    "    means[i] = np.mean(X)                     # mean of collapsed ACF\n",
    "    stds[i] = np.std(X)                       # stdev of collapsed ACF\n",
    "\n",
    "pl.loglog(Ks, means, 'o', color='C0')\n",
    "pl.loglog(Ks, Ks**2/2, '--', color='C0')      # mean of ACF = length K**2/2\n",
    "pl.loglog(Ks, stds, 'o', color='C1')\n",
    "# pl.loglog(Ks, 1.2*Ks**1.5, '--', color='C1')\n",
    "pl.loglog(Ks, np.sqrt((Ks + Ks*(Ks-1)*0.8)*(3.*Ks/2.)), '-.', color='C1') # variance of ACF is (K+K(K-1)*0.8)*(3*K/2)\n",
    "pl.xlabel('size of power spectrum')\n",
    "pl.title('summed ACF');"
   ]
  },
  {
   "cell_type": "code",
   "execution_count": null,
   "metadata": {},
   "outputs": [],
   "source": [
    "np.shape(X)"
   ]
  },
  {
   "cell_type": "code",
   "execution_count": null,
   "metadata": {},
   "outputs": [],
   "source": [
    "pl.plot(A[:,0])"
   ]
  },
  {
   "cell_type": "code",
   "execution_count": null,
   "metadata": {},
   "outputs": [],
   "source": [
    "def get_one_ACF_mu_cov(ACF):\n",
    "    N = len(ACF)\n",
    "    ones = np.ones(N-1)\n",
    "    C = np.diag(ones)\n",
    "    C = C[::-1]\n",
    "    C += np.diag(ones)\n",
    "    C[C>1] = 1\n",
    "    C[C==0] = 0.8\n",
    "    C *= 3*N\n",
    "    return N, C"
   ]
  },
  {
   "cell_type": "code",
   "execution_count": null,
   "metadata": {},
   "outputs": [],
   "source": [
    "N, C = get_one_ACF_mu_cov(A[:,0])"
   ]
  },
  {
   "cell_type": "code",
   "execution_count": null,
   "metadata": {},
   "outputs": [],
   "source": [
    "pl.imshow(C)"
   ]
  },
  {
   "cell_type": "code",
   "execution_count": null,
   "metadata": {},
   "outputs": [],
   "source": [
    "def get_summed_ACF_mu_cov(ACF, width=20):\n",
    "    K = len(ACF)\n",
    "    dN2 = (K + K*(K-1)*0.8)*(3.*K/2.)\n",
    "\n",
    "    ones = np.ones(ACF.shape[0])\n",
    "    frac = 1./width\n",
    "    C = np.diag(ones)\n",
    "    for i in range(1, width):\n",
    "        C += np.diag(ones[:-i]*(1.-i*frac), i)\n",
    "        C += np.diag(ones[:-i]*(1.-i*frac), -i)\n",
    "\n",
    "    return 2*K**2, C*dN2"
   ]
  },
  {
   "cell_type": "code",
   "execution_count": null,
   "metadata": {},
   "outputs": [],
   "source": [
    "N, C = get_summed_ACF_mu_cov(A, width=2)"
   ]
  },
  {
   "cell_type": "code",
   "execution_count": null,
   "metadata": {},
   "outputs": [],
   "source": [
    "pl.imshow(C)"
   ]
  },
  {
   "cell_type": "code",
   "execution_count": null,
   "metadata": {},
   "outputs": [],
   "source": []
  }
 ],
 "metadata": {
  "kernelspec": {
   "display_name": "Python 3",
   "language": "python",
   "name": "python3"
  },
  "language_info": {
   "codemirror_mode": {
    "name": "ipython",
    "version": 3
   },
   "file_extension": ".py",
   "mimetype": "text/x-python",
   "name": "python",
   "nbconvert_exporter": "python",
   "pygments_lexer": "ipython3",
   "version": "3.7.5"
  }
 },
 "nbformat": 4,
 "nbformat_minor": 4
}
