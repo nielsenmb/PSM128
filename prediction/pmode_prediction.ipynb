{
 "cells": [
  {
   "cell_type": "markdown",
   "metadata": {},
   "source": [
    "## Computing Gaia luminosities"
   ]
  },
  {
   "cell_type": "markdown",
   "metadata": {},
   "source": [
    "### Read in Kepler seismic values"
   ]
  },
  {
   "cell_type": "code",
   "execution_count": null,
   "metadata": {},
   "outputs": [],
   "source": [
    "seis = pd.read_csv('/home/nielsemb/work/the_big_solar_like_oscillator_list.csv')"
   ]
  },
  {
   "cell_type": "markdown",
   "metadata": {},
   "source": [
    "### Read in Gaia database values"
   ]
  },
  {
   "cell_type": "code",
   "execution_count": null,
   "metadata": {},
   "outputs": [],
   "source": [
    "gaia = pickle.load(open( \"/home/nielsemb/work/search_result_g.p\", \"rb\" ) ).GDR2.to_pandas()\n",
    "idxg = gaia['source_id'] == 0\n",
    "gaia[idxg] = np.nan"
   ]
  },
  {
   "cell_type": "code",
   "execution_count": null,
   "metadata": {},
   "outputs": [],
   "source": [
    "def GbandBolometricCorrection(teff, teff_0=5777):\n",
    "\n",
    "    BC_G = np.zeros_like(teff, dtype = float)\n",
    "    sigma_BC_G = np.zeros_like(teff, dtype = float)\n",
    "    \n",
    "    idx0 = teff > 4000\n",
    "    # Coefficients for BC_G(Teff) and sigma(BC_G)\n",
    "    p0 = np.array([[ 6.000e-02,  2.634e-02],\n",
    "                   [ 6.731e-05,  2.438e-05],\n",
    "                   [-6.647e-08, -1.129e-09],\n",
    "                   [ 2.859e-11, -6.722e-12],\n",
    "                   [-7.197e-15,  1.635e-15]])\n",
    "    \n",
    "    idx1 = teff <=4000\n",
    "    p1 = np.array([[ 1.749e+00,-2.487e+00],\n",
    "                   [ 1.977e-03,-1.876e-03],\n",
    "                   [ 3.737e-07, 2.128e-07],\n",
    "                   [-8.966e-11, 3.807e-10],\n",
    "                   [-4.183e-14, 6.570e-14]])\n",
    "    \n",
    "    BC_G[idx0] = np.polyval(p0[::-1,0], teff[idx0] - teff_0)\n",
    "    BC_G[idx1] = np.polyval(p1[::-1,0], teff[idx1] - teff_0)\n",
    "    \n",
    "    sigma_BC_G[idx0] = np.polyval(p0[::-1,1], teff[idx0] - teff_0)\n",
    "    sigma_BC_G[idx1] = np.polyval(p1[::-1,1], teff[idx1] - teff_0)\n",
    "\n",
    "    return BC_G, sigma_BC_G\n",
    "\n",
    "def luminosity(teff, m_G, plx, A_G=0, Mbol_0 = 4.75):\n",
    "    \n",
    "    idx = plx <=0\n",
    "    plx[idx] = np.nan\n",
    "    \n",
    "    BC_G, sigma_BC_G = GbandBolometricCorrection(teff, teff_0=5772)\n",
    "     \n",
    "    logL = 4.0 - 2.0*np.log10(plx) - 0.4*(m_G - A_G + BC_G - Mbol_0)\n",
    "    \n",
    "    return 10**logL"
   ]
  },
  {
   "cell_type": "code",
   "execution_count": null,
   "metadata": {},
   "outputs": [],
   "source": [
    "BC = GbandBolometricCorrection(df['teff'], teff_0=5777)\n",
    "fig, ax = subplots(figsize = (16,9))\n",
    "ax.scatter(df['teff'],BC[0])\n",
    "ax.scatter(df['teff'],BC[0]-BC[1], s = 3)\n",
    "ax.scatter(df['teff'],BC[0]+BC[1], s = 3)\n",
    "ax.invert_xaxis()"
   ]
  },
  {
   "cell_type": "code",
   "execution_count": null,
   "metadata": {},
   "outputs": [],
   "source": [
    "offset = 0.029 #mas\n",
    "L = luminosity(seis['teff'], gaia['phot_g_mean_mag'], gaia['parallax']+offset, gaia['a_g_val'])"
   ]
  },
  {
   "cell_type": "markdown",
   "metadata": {},
   "source": [
    "## Estimating $\\nu_{max}$"
   ]
  },
  {
   "cell_type": "code",
   "execution_count": null,
   "metadata": {},
   "outputs": [],
   "source": [
    "def seismicParameters(teff, L, numax_0 = 3050, teff_0 = 5777):\n",
    "    \"\"\" Estimated seismic parameters for the star\n",
    "    \n",
    "    Based on Teff and L\n",
    "    \n",
    "    \"\"\"\n",
    "\n",
    "    numax = L**-0.9 * (teff/teff_0)**4.62 * numax_0\n",
    "    \n",
    "    return numax"
   ]
  },
  {
   "cell_type": "markdown",
   "metadata": {},
   "source": [
    "## Compare Gaia and computed luminosities with TRILEGAL"
   ]
  },
  {
   "cell_type": "code",
   "execution_count": null,
   "metadata": {},
   "outputs": [],
   "source": [
    "tril = pd.read_csv('/home/nielsemb/work/repos/PSM128/P5_selection/platosim_STEP01.dat', sep = ' ')\n",
    "idx1 = 10**tril.logTe < 8000\n",
    "idx2 = (tril.mu0 < (np.log10(150000)-1)*5) # Limit on distance modulus\n",
    "idx3 = (tril.mratio == 0) # mass ratio?? limit \n",
    "idx4 = (tril.label < 9) # ?? \n",
    "idx5 = (tril.Gc < 2) # ??\n",
    "idxCut = idx1 & idx2 & idx3 & idx4 & idx5\n",
    "\n",
    "fig, ax = subplots(figsize = (16,9))\n",
    "ax.scatter(10**tril['logTe'][idxCut], tril['logL'][idxCut], alpha = 0.75)\n",
    "ax.scatter(df['teff'], np.log10(gf['lum_val']), alpha = 0.2)\n",
    "ax.scatter(df['teff'], np.log10(L), alpha = 0.2)\n",
    "ax.invert_xaxis()"
   ]
  },
  {
   "cell_type": "markdown",
   "metadata": {},
   "source": [
    "## Compare $\\nu_{max}$ using different luminosity sources"
   ]
  },
  {
   "cell_type": "code",
   "execution_count": null,
   "metadata": {},
   "outputs": [],
   "source": [
    "gaia_numax = seismicParameters(df['teff'], gf['lum_val'])\n",
    "comp_numax = seismicParameters(df['teff'], L)\n",
    "tril_numax = seismicParameters(10**tril['logTe'].values, 10**tril['logL'].values, )\n",
    "\n",
    "\n",
    "\n",
    "fig, ax = subplots(figsize = (16,16))\n",
    "ax.scatter(tril['logL'], np.log10(tril_numax), alpha = 0.2, c = tril['logTe'], s = 2)\n",
    "ax.scatter(np.log10(gf['lum_val']), np.log10(df['numax']), alpha = 0.1, c = 'C1', s = 10)\n",
    "ax.scatter(np.log10(L), np.log10(df['numax']), alpha = 0.1, c = 'C3', s = 10)\n",
    "ax.set_ylim(0,4)\n",
    "ax.set_xlim(-1,3)\n",
    "ax.invert_yaxis()\n",
    "\n",
    "fig, ax = subplots(figsize = (16,9))\n",
    "ax.scatter(np.log10(df['numax']), np.log(g_numax0) - np.log(df['numax']), alpha = 0.25)\n",
    "ax.scatter(np.log10(df['numax']), np.log(g_numax1) - np.log(df['numax']), alpha = 0.25)\n",
    "#ax.set_yscale('log')\n",
    "ax.set_ylim(-2,2)\n",
    "#ylim(-1,1)\n",
    "#ax.axhline(0, color = 'C1')\n",
    "#ax.axhline(0+np.log10(3), color = 'C2')\n",
    "#ax.axhline(0-np.log10(3), color = 'C2')"
   ]
  }
 ],
 "metadata": {
  "kernelspec": {
   "display_name": "Python 3",
   "language": "python",
   "name": "python3"
  },
  "language_info": {
   "codemirror_mode": {
    "name": "ipython",
    "version": 3
   },
   "file_extension": ".py",
   "mimetype": "text/x-python",
   "name": "python",
   "nbconvert_exporter": "python",
   "pygments_lexer": "ipython3",
   "version": "3.7.5"
  }
 },
 "nbformat": 4,
 "nbformat_minor": 4
}
