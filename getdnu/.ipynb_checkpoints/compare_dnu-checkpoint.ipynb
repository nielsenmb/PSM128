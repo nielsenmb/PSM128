{
 "cells": [
  {
   "cell_type": "code",
   "execution_count": 1,
   "metadata": {},
   "outputs": [],
   "source": [
    "import pandas as pd\n",
    "import numpy as np\n",
    "from matplotlib.pyplot import *\n",
    "from scipy.signal import correlate\n",
    "import seaborn as sns\n",
    "import lightkurve as lk\n",
    "from astropy.io import fits\n",
    "import glob, pickle, warnings, os\n",
    "from datetime import datetime"
   ]
  },
  {
   "cell_type": "code",
   "execution_count": 2,
   "metadata": {},
   "outputs": [],
   "source": [
    "def search_and_dump(ID, cadence, mission, search_cache, store_date):\n",
    "    search = lk.search_lightcurvefile(ID, cadence=cadence, mission=mission)\n",
    "    fname = os.path.join(*[search_cache, f\"{ID}_{mission}_{cadence}_{store_date}.lksearchresult\"])\n",
    "    pickle.dump(search, open(fname, \"wb\"))\n",
    "    return search"
   ]
  },
  {
   "cell_type": "code",
   "execution_count": 3,
   "metadata": {},
   "outputs": [],
   "source": [
    "def perform_search(ID, cadence='long', mission='Kepler', download_dir=None, cache_expire = 30):\n",
    "    \"\"\" Find filenames related to target\n",
    "    \n",
    "    Preferentially accesses cached search results. \n",
    "    \n",
    "    Parameters\n",
    "    ----------\n",
    "    ID : str\n",
    "        Target ID (must be KIC, TIC, or ktwo prefixed)\n",
    "    cadence : str\n",
    "        Cadence of the observations, 'short' or 'long'\n",
    "    mission : str\n",
    "        Mission \n",
    "    download_dir : str\n",
    "        Directory for fits file and search results caches. Default is ~/.lightkurve-cache. \n",
    "    cache_expire : int\n",
    "        Expiration time for the search cache results. Files older than this will be \n",
    "        \n",
    "    Returns\n",
    "    -------\n",
    "    search : lightkurve.search.SearchResult\n",
    "        Search result from MAST. \n",
    "    \n",
    "    \"\"\"\n",
    "    current_date = datetime.now().isoformat()\n",
    "    store_date = current_date[:current_date.index('T')].replace('-','')\n",
    "    \n",
    "    # Set default lightkurve cache if nothing else is given\n",
    "    if download_dir is None:\n",
    "        download_dir = os.path.join(*[os.path.expanduser('~'), '.lightkurve-cache'])\n",
    "    \n",
    "    # Make search_cache dir if it doesn't exist\n",
    "    search_cache = os.path.join(*[download_dir, 'SearchResults', 'Kepler'])\n",
    "    if not os.path.isdir(search_cache):\n",
    "        os.mkdir(search_cache)\n",
    "\n",
    "    # Search the search_cache for relevant file\n",
    "    wildpath = os.path.join(*[search_cache, f\"{ID}_{mission}_{cadence}_20*.lksearchresult\"])\n",
    "    files = glob.glob(wildpath)\n",
    "   \n",
    "    # Load cached search result if it exists.\n",
    "    if len(files)==1:\n",
    "        fdate = files[0].replace('.lksearchresult','').split('_')[-1]\n",
    "        ddate = datetime.now() - datetime(int(fdate[:4]), int(fdate[4:6]), int(fdate[6:]))\n",
    "        \n",
    "        # If file is saved more than cache_expire days ago, a new search is performed\n",
    "        if ddate.days < cache_expire:\n",
    "            search = pickle.load(open(files[0], \"rb\"))\n",
    "        else:\n",
    "            search = search_and_dump(ID, cadence, mission, search_cache, store_date)\n",
    "    elif len(files) == 0:\n",
    "        search = search_and_dump(ID, cadence, mission, search_cache, store_date)\n",
    "    else:\n",
    "        raise ValueError('Too many files found, clean up the cache!')\n",
    "    \n",
    "    return search"
   ]
  },
  {
   "cell_type": "code",
   "execution_count": 4,
   "metadata": {},
   "outputs": [],
   "source": [
    "def load_fits(files):\n",
    "    lcs = [lk.lightcurvefile.KeplerLightCurveFile(file) for file in files]\n",
    "    lccol = lk.collections.LightCurveFileCollection(lcs)\n",
    "    lc = lccol.PDCSAP_FLUX.stitch().remove_outliers(4)\n",
    "    return lc"
   ]
  },
  {
   "cell_type": "code",
   "execution_count": 15,
   "metadata": {},
   "outputs": [],
   "source": [
    "def check_lc_cache(search, download_dir=None):\n",
    "    \n",
    "    # Set main cache directory.\n",
    "    if download_dir is None:\n",
    "        download_dir = os.path.join(*[os.path.expanduser('~'), '.lightkurve-cache'])\n",
    "    \n",
    "    print(download_dir)\n",
    "    \n",
    "    # Set target subdirectory\n",
    "    qs = np.zeros(18, dtype = str)\n",
    "    for q in search.table['observation']:\n",
    "        i = int(q.replace('Kepler Quarter', ''))\n",
    "        qs[i] = str(1)\n",
    "    subdir_name = search.table['target_name'][0]+'_lc_Q'+''.join(qs)\n",
    "    \n",
    "    kic_dir = os.path.join(*[download_dir, 'mastDownload', 'Kepler', subdir_name])\n",
    "         \n",
    "    fnames = search.table['productFilename']\n",
    "    files_in_cache = []\n",
    "        \n",
    "    # Check that each file in search result exists in cache.    \n",
    "    if not os.path.isdir(kic_dir):\n",
    "    \n",
    "        for i, fname in enumerate(fnames):\n",
    "            file = os.path.join(*[kic_dir, fname])\n",
    "            if os.path.exists(file):\n",
    "                files_in_cache.append(file)\n",
    "\n",
    "        # If list of files in cache doesn't match search results. Download everything in the search.\n",
    "        if len(files_in_cache) != len(search):\n",
    "            search.download_all(download_dir)\n",
    "            files_in_cache = [os.path.join(*[download_dir, 'mastDownload', 'Kepler', subdir_name, fname]) for fname in fnames]\n",
    "    else:\n",
    "        search.download_all(download_dir)\n",
    "        files_in_cache = [os.path.join(*[download_dir, 'mastDownload', 'Kepler', subdir_name, fname]) for fname in fnames]\n",
    "\n",
    "    return files_in_cache"
   ]
  },
  {
   "cell_type": "code",
   "execution_count": 16,
   "metadata": {},
   "outputs": [
    {
     "ename": "SearchError",
     "evalue": "Failed to open the downloaded file (/home/nielsemb/.lightkurve-cache/mastDownload/Kepler/kplr004448777_lc_Q111111111111111111/kplr004448777-2009131105131_llc.fits). The file was likely only partially downloaded. Please remove it from your disk and try again.",
     "output_type": "error",
     "traceback": [
      "\u001b[0;31m---------------------------------------------------------------------------\u001b[0m",
      "\u001b[0;31mKeyError\u001b[0m                                  Traceback (most recent call last)",
      "\u001b[0;32m~/.local/lib/python3.7/site-packages/lightkurve/utils.py\u001b[0m in \u001b[0;36mcreate_quality_mask\u001b[0;34m(cls, quality_array, bitmask)\u001b[0m\n\u001b[1;32m     79\u001b[0m             \u001b[0;32mtry\u001b[0m\u001b[0;34m:\u001b[0m\u001b[0;34m\u001b[0m\u001b[0;34m\u001b[0m\u001b[0m\n\u001b[0;32m---> 80\u001b[0;31m                 \u001b[0mbitmask\u001b[0m \u001b[0;34m=\u001b[0m \u001b[0mcls\u001b[0m\u001b[0;34m.\u001b[0m\u001b[0mOPTIONS\u001b[0m\u001b[0;34m[\u001b[0m\u001b[0mbitmask\u001b[0m\u001b[0;34m]\u001b[0m\u001b[0;34m\u001b[0m\u001b[0;34m\u001b[0m\u001b[0m\n\u001b[0m\u001b[1;32m     81\u001b[0m             \u001b[0;32mexcept\u001b[0m \u001b[0mKeyError\u001b[0m\u001b[0;34m:\u001b[0m\u001b[0;34m\u001b[0m\u001b[0;34m\u001b[0m\u001b[0m\n",
      "\u001b[0;31mKeyError\u001b[0m: '/home/nielsemb/.lightkurve-cache'",
      "\nDuring handling of the above exception, another exception occurred:\n",
      "\u001b[0;31mValueError\u001b[0m                                Traceback (most recent call last)",
      "\u001b[0;32m~/.local/lib/python3.7/site-packages/lightkurve/search.py\u001b[0m in \u001b[0;36m_open_downloaded_file\u001b[0;34m(path, **kwargs)\u001b[0m\n\u001b[1;32m   1038\u001b[0m     \u001b[0;32mtry\u001b[0m\u001b[0;34m:\u001b[0m\u001b[0;34m\u001b[0m\u001b[0;34m\u001b[0m\u001b[0m\n\u001b[0;32m-> 1039\u001b[0;31m         \u001b[0;32mreturn\u001b[0m \u001b[0mopen\u001b[0m\u001b[0;34m(\u001b[0m\u001b[0mpath\u001b[0m\u001b[0;34m,\u001b[0m \u001b[0;34m**\u001b[0m\u001b[0mkwargs\u001b[0m\u001b[0;34m)\u001b[0m\u001b[0;34m\u001b[0m\u001b[0;34m\u001b[0m\u001b[0m\n\u001b[0m\u001b[1;32m   1040\u001b[0m     \u001b[0;32mexcept\u001b[0m \u001b[0mValueError\u001b[0m\u001b[0;34m:\u001b[0m\u001b[0;34m\u001b[0m\u001b[0;34m\u001b[0m\u001b[0m\n",
      "\u001b[0;32m~/.local/lib/python3.7/site-packages/lightkurve/search.py\u001b[0m in \u001b[0;36mopen\u001b[0;34m(path_or_url, **kwargs)\u001b[0m\n\u001b[1;32m   1026\u001b[0m     \u001b[0;32mif\u001b[0m \u001b[0mfiletype\u001b[0m \u001b[0;32mis\u001b[0m \u001b[0;32mnot\u001b[0m \u001b[0;32mNone\u001b[0m\u001b[0;34m:\u001b[0m\u001b[0;34m\u001b[0m\u001b[0;34m\u001b[0m\u001b[0m\n\u001b[0;32m-> 1027\u001b[0;31m         \u001b[0;32mreturn\u001b[0m \u001b[0mgetattr\u001b[0m\u001b[0;34m(\u001b[0m\u001b[0m__import__\u001b[0m\u001b[0;34m(\u001b[0m\u001b[0;34m'lightkurve'\u001b[0m\u001b[0;34m)\u001b[0m\u001b[0;34m,\u001b[0m \u001b[0mfiletype\u001b[0m\u001b[0;34m)\u001b[0m\u001b[0;34m(\u001b[0m\u001b[0mpath_or_url\u001b[0m\u001b[0;34m,\u001b[0m \u001b[0;34m**\u001b[0m\u001b[0mkwargs\u001b[0m\u001b[0;34m)\u001b[0m\u001b[0;34m\u001b[0m\u001b[0;34m\u001b[0m\u001b[0m\n\u001b[0m\u001b[1;32m   1028\u001b[0m     \u001b[0;32melse\u001b[0m\u001b[0;34m:\u001b[0m\u001b[0;34m\u001b[0m\u001b[0;34m\u001b[0m\u001b[0m\n",
      "\u001b[0;32m~/.local/lib/python3.7/site-packages/lightkurve/lightcurvefile.py\u001b[0m in \u001b[0;36m__init__\u001b[0;34m(self, path, quality_bitmask, **kwargs)\u001b[0m\n\u001b[1;32m    300\u001b[0m                                 \u001b[0mquality_array\u001b[0m\u001b[0;34m=\u001b[0m\u001b[0mself\u001b[0m\u001b[0;34m.\u001b[0m\u001b[0mhdu\u001b[0m\u001b[0;34m[\u001b[0m\u001b[0;36m1\u001b[0m\u001b[0;34m]\u001b[0m\u001b[0;34m.\u001b[0m\u001b[0mdata\u001b[0m\u001b[0;34m[\u001b[0m\u001b[0;34m'SAP_QUALITY'\u001b[0m\u001b[0;34m]\u001b[0m\u001b[0;34m,\u001b[0m\u001b[0;34m\u001b[0m\u001b[0;34m\u001b[0m\u001b[0m\n\u001b[0;32m--> 301\u001b[0;31m                                 bitmask=quality_bitmask)\n\u001b[0m\u001b[1;32m    302\u001b[0m         \u001b[0mself\u001b[0m\u001b[0;34m.\u001b[0m\u001b[0mtargetid\u001b[0m \u001b[0;34m=\u001b[0m \u001b[0mself\u001b[0m\u001b[0;34m.\u001b[0m\u001b[0mget_keyword\u001b[0m\u001b[0;34m(\u001b[0m\u001b[0;34m'KEPLERID'\u001b[0m\u001b[0;34m)\u001b[0m\u001b[0;34m\u001b[0m\u001b[0;34m\u001b[0m\u001b[0m\n",
      "\u001b[0;32m~/.local/lib/python3.7/site-packages/lightkurve/utils.py\u001b[0m in \u001b[0;36mcreate_quality_mask\u001b[0;34m(cls, quality_array, bitmask)\u001b[0m\n\u001b[1;32m     84\u001b[0m                                  \u001b[0;34m\"expected one of {}\"\u001b[0m\u001b[0;34m\u001b[0m\u001b[0;34m\u001b[0m\u001b[0m\n\u001b[0;32m---> 85\u001b[0;31m                                  \"\".format(bitmask, valid_options))\n\u001b[0m\u001b[1;32m     86\u001b[0m         \u001b[0;31m# The bitmask is applied using the bitwise AND operator\u001b[0m\u001b[0;34m\u001b[0m\u001b[0;34m\u001b[0m\u001b[0;34m\u001b[0m\u001b[0m\n",
      "\u001b[0;31mValueError\u001b[0m: quality_bitmask='/home/nielsemb/.lightkurve-cache' is not supported, expected one of ('none', 'default', 'hard', 'hardest')",
      "\nDuring handling of the above exception, another exception occurred:\n",
      "\u001b[0;31mSearchError\u001b[0m                               Traceback (most recent call last)",
      "\u001b[0;32m<ipython-input-16-69f1621d978c>\u001b[0m in \u001b[0;36m<module>\u001b[0;34m\u001b[0m\n\u001b[1;32m      1\u001b[0m \u001b[0mkics\u001b[0m \u001b[0;34m=\u001b[0m \u001b[0;34m[\u001b[0m\u001b[0;34m'KIC4448777'\u001b[0m\u001b[0;34m]\u001b[0m\u001b[0;34m\u001b[0m\u001b[0;34m\u001b[0m\u001b[0m\n\u001b[1;32m      2\u001b[0m \u001b[0msearch\u001b[0m \u001b[0;34m=\u001b[0m \u001b[0mperform_search\u001b[0m\u001b[0;34m(\u001b[0m\u001b[0mkics\u001b[0m\u001b[0;34m[\u001b[0m\u001b[0;36m0\u001b[0m\u001b[0;34m]\u001b[0m\u001b[0;34m)\u001b[0m\u001b[0;34m\u001b[0m\u001b[0;34m\u001b[0m\u001b[0m\n\u001b[0;32m----> 3\u001b[0;31m \u001b[0mfiles\u001b[0m \u001b[0;34m=\u001b[0m \u001b[0mcheck_lc_cache\u001b[0m\u001b[0;34m(\u001b[0m\u001b[0msearch\u001b[0m\u001b[0;34m)\u001b[0m\u001b[0;34m\u001b[0m\u001b[0;34m\u001b[0m\u001b[0m\n\u001b[0m\u001b[1;32m      4\u001b[0m \u001b[0mlc\u001b[0m \u001b[0;34m=\u001b[0m \u001b[0mload_fits\u001b[0m\u001b[0;34m(\u001b[0m\u001b[0mfiles\u001b[0m\u001b[0;34m)\u001b[0m\u001b[0;34m\u001b[0m\u001b[0;34m\u001b[0m\u001b[0m\n\u001b[1;32m      5\u001b[0m \u001b[0mpg\u001b[0m \u001b[0;34m=\u001b[0m \u001b[0mlc\u001b[0m\u001b[0;34m.\u001b[0m\u001b[0mto_periodogram\u001b[0m\u001b[0;34m(\u001b[0m\u001b[0mnormalization\u001b[0m\u001b[0;34m=\u001b[0m\u001b[0;34m'psd'\u001b[0m\u001b[0;34m)\u001b[0m\u001b[0;34m.\u001b[0m\u001b[0mflatten\u001b[0m\u001b[0;34m(\u001b[0m\u001b[0;34m)\u001b[0m\u001b[0;34m\u001b[0m\u001b[0;34m\u001b[0m\u001b[0m\n",
      "\u001b[0;32m<ipython-input-15-581b10c26ca6>\u001b[0m in \u001b[0;36mcheck_lc_cache\u001b[0;34m(search, download_dir)\u001b[0m\n\u001b[1;32m     30\u001b[0m             \u001b[0mfiles_in_cache\u001b[0m \u001b[0;34m=\u001b[0m \u001b[0;34m[\u001b[0m\u001b[0mos\u001b[0m\u001b[0;34m.\u001b[0m\u001b[0mpath\u001b[0m\u001b[0;34m.\u001b[0m\u001b[0mjoin\u001b[0m\u001b[0;34m(\u001b[0m\u001b[0;34m*\u001b[0m\u001b[0;34m[\u001b[0m\u001b[0mdownload_dir\u001b[0m\u001b[0;34m,\u001b[0m \u001b[0;34m'mastDownload'\u001b[0m\u001b[0;34m,\u001b[0m \u001b[0;34m'Kepler'\u001b[0m\u001b[0;34m,\u001b[0m \u001b[0msubdir_name\u001b[0m\u001b[0;34m,\u001b[0m \u001b[0mfname\u001b[0m\u001b[0;34m]\u001b[0m\u001b[0;34m)\u001b[0m \u001b[0;32mfor\u001b[0m \u001b[0mfname\u001b[0m \u001b[0;32min\u001b[0m \u001b[0mfnames\u001b[0m\u001b[0;34m]\u001b[0m\u001b[0;34m\u001b[0m\u001b[0;34m\u001b[0m\u001b[0m\n\u001b[1;32m     31\u001b[0m     \u001b[0;32melse\u001b[0m\u001b[0;34m:\u001b[0m\u001b[0;34m\u001b[0m\u001b[0;34m\u001b[0m\u001b[0m\n\u001b[0;32m---> 32\u001b[0;31m         \u001b[0msearch\u001b[0m\u001b[0;34m.\u001b[0m\u001b[0mdownload_all\u001b[0m\u001b[0;34m(\u001b[0m\u001b[0mdownload_dir\u001b[0m\u001b[0;34m)\u001b[0m\u001b[0;34m\u001b[0m\u001b[0;34m\u001b[0m\u001b[0m\n\u001b[0m\u001b[1;32m     33\u001b[0m         \u001b[0mfiles_in_cache\u001b[0m \u001b[0;34m=\u001b[0m \u001b[0;34m[\u001b[0m\u001b[0mos\u001b[0m\u001b[0;34m.\u001b[0m\u001b[0mpath\u001b[0m\u001b[0;34m.\u001b[0m\u001b[0mjoin\u001b[0m\u001b[0;34m(\u001b[0m\u001b[0;34m*\u001b[0m\u001b[0;34m[\u001b[0m\u001b[0mdownload_dir\u001b[0m\u001b[0;34m,\u001b[0m \u001b[0;34m'mastDownload'\u001b[0m\u001b[0;34m,\u001b[0m \u001b[0;34m'Kepler'\u001b[0m\u001b[0;34m,\u001b[0m \u001b[0msubdir_name\u001b[0m\u001b[0;34m,\u001b[0m \u001b[0mfname\u001b[0m\u001b[0;34m]\u001b[0m\u001b[0;34m)\u001b[0m \u001b[0;32mfor\u001b[0m \u001b[0mfname\u001b[0m \u001b[0;32min\u001b[0m \u001b[0mfnames\u001b[0m\u001b[0;34m]\u001b[0m\u001b[0;34m\u001b[0m\u001b[0;34m\u001b[0m\u001b[0m\n\u001b[1;32m     34\u001b[0m \u001b[0;34m\u001b[0m\u001b[0m\n",
      "\u001b[0;32m~/.local/lib/python3.7/site-packages/lightkurve/utils.py\u001b[0m in \u001b[0;36mwrapper\u001b[0;34m(*args, **kwargs)\u001b[0m\n\u001b[1;32m    471\u001b[0m             \u001b[0msys\u001b[0m\u001b[0;34m.\u001b[0m\u001b[0mstdout\u001b[0m \u001b[0;34m=\u001b[0m \u001b[0mdevnull\u001b[0m\u001b[0;34m\u001b[0m\u001b[0;34m\u001b[0m\u001b[0m\n\u001b[1;32m    472\u001b[0m             \u001b[0;32mtry\u001b[0m\u001b[0;34m:\u001b[0m\u001b[0;34m\u001b[0m\u001b[0;34m\u001b[0m\u001b[0m\n\u001b[0;32m--> 473\u001b[0;31m                 \u001b[0;32mreturn\u001b[0m \u001b[0mf\u001b[0m\u001b[0;34m(\u001b[0m\u001b[0;34m*\u001b[0m\u001b[0margs\u001b[0m\u001b[0;34m,\u001b[0m \u001b[0;34m**\u001b[0m\u001b[0mkwargs\u001b[0m\u001b[0;34m)\u001b[0m\u001b[0;34m\u001b[0m\u001b[0;34m\u001b[0m\u001b[0m\n\u001b[0m\u001b[1;32m    474\u001b[0m             \u001b[0;31m# restore to default\u001b[0m\u001b[0;34m\u001b[0m\u001b[0;34m\u001b[0m\u001b[0;34m\u001b[0m\u001b[0m\n\u001b[1;32m    475\u001b[0m             \u001b[0;32mfinally\u001b[0m\u001b[0;34m:\u001b[0m\u001b[0;34m\u001b[0m\u001b[0;34m\u001b[0m\u001b[0m\n",
      "\u001b[0;32m~/.local/lib/python3.7/site-packages/lightkurve/search.py\u001b[0m in \u001b[0;36mdownload_all\u001b[0;34m(self, quality_bitmask, download_dir, cutout_size)\u001b[0m\n\u001b[1;32m    291\u001b[0m                                                \u001b[0mquality_bitmask\u001b[0m\u001b[0;34m=\u001b[0m\u001b[0mquality_bitmask\u001b[0m\u001b[0;34m,\u001b[0m\u001b[0;34m\u001b[0m\u001b[0;34m\u001b[0m\u001b[0m\n\u001b[1;32m    292\u001b[0m                                                \u001b[0mdownload_dir\u001b[0m\u001b[0;34m=\u001b[0m\u001b[0mdownload_dir\u001b[0m\u001b[0;34m,\u001b[0m\u001b[0;34m\u001b[0m\u001b[0;34m\u001b[0m\u001b[0m\n\u001b[0;32m--> 293\u001b[0;31m                                                cutout_size=cutout_size))\n\u001b[0m\u001b[1;32m    294\u001b[0m         \u001b[0;32mif\u001b[0m \u001b[0misinstance\u001b[0m\u001b[0;34m(\u001b[0m\u001b[0mproducts\u001b[0m\u001b[0;34m[\u001b[0m\u001b[0;36m0\u001b[0m\u001b[0;34m]\u001b[0m\u001b[0;34m,\u001b[0m \u001b[0mTargetPixelFile\u001b[0m\u001b[0;34m)\u001b[0m\u001b[0;34m:\u001b[0m\u001b[0;34m\u001b[0m\u001b[0;34m\u001b[0m\u001b[0m\n\u001b[1;32m    295\u001b[0m             \u001b[0;32mreturn\u001b[0m \u001b[0mTargetPixelFileCollection\u001b[0m\u001b[0;34m(\u001b[0m\u001b[0mproducts\u001b[0m\u001b[0;34m)\u001b[0m\u001b[0;34m\u001b[0m\u001b[0;34m\u001b[0m\u001b[0m\n",
      "\u001b[0;32m~/.local/lib/python3.7/site-packages/lightkurve/search.py\u001b[0m in \u001b[0;36m_download_one\u001b[0;34m(self, table, quality_bitmask, download_dir, cutout_size)\u001b[0m\n\u001b[1;32m    177\u001b[0m             \u001b[0mlog\u001b[0m\u001b[0;34m.\u001b[0m\u001b[0mdebug\u001b[0m\u001b[0;34m(\u001b[0m\u001b[0;34m\"Finished downloading.\"\u001b[0m\u001b[0;34m)\u001b[0m\u001b[0;34m\u001b[0m\u001b[0;34m\u001b[0m\u001b[0m\n\u001b[1;32m    178\u001b[0m             \u001b[0;31m# open() will determine filetype and return\u001b[0m\u001b[0;34m\u001b[0m\u001b[0;34m\u001b[0m\u001b[0;34m\u001b[0m\u001b[0m\n\u001b[0;32m--> 179\u001b[0;31m             \u001b[0;32mreturn\u001b[0m \u001b[0m_open_downloaded_file\u001b[0m\u001b[0;34m(\u001b[0m\u001b[0mpath\u001b[0m\u001b[0;34m,\u001b[0m \u001b[0mquality_bitmask\u001b[0m\u001b[0;34m=\u001b[0m\u001b[0mquality_bitmask\u001b[0m\u001b[0;34m)\u001b[0m\u001b[0;34m\u001b[0m\u001b[0;34m\u001b[0m\u001b[0m\n\u001b[0m\u001b[1;32m    180\u001b[0m \u001b[0;34m\u001b[0m\u001b[0m\n\u001b[1;32m    181\u001b[0m     \u001b[0;34m@\u001b[0m\u001b[0msuppress_stdout\u001b[0m\u001b[0;34m\u001b[0m\u001b[0;34m\u001b[0m\u001b[0m\n",
      "\u001b[0;32m~/.local/lib/python3.7/site-packages/lightkurve/search.py\u001b[0m in \u001b[0;36m_open_downloaded_file\u001b[0;34m(path, **kwargs)\u001b[0m\n\u001b[1;32m   1041\u001b[0m         raise SearchError(\"Failed to open the downloaded file ({}). \"\n\u001b[1;32m   1042\u001b[0m                           \u001b[0;34m\"The file was likely only partially downloaded. \"\u001b[0m\u001b[0;34m\u001b[0m\u001b[0;34m\u001b[0m\u001b[0m\n\u001b[0;32m-> 1043\u001b[0;31m                           \"Please remove it from your disk and try again.\".format(path))\n\u001b[0m\u001b[1;32m   1044\u001b[0m \u001b[0;34m\u001b[0m\u001b[0m\n\u001b[1;32m   1045\u001b[0m \u001b[0;34m\u001b[0m\u001b[0m\n",
      "\u001b[0;31mSearchError\u001b[0m: Failed to open the downloaded file (/home/nielsemb/.lightkurve-cache/mastDownload/Kepler/kplr004448777_lc_Q111111111111111111/kplr004448777-2009131105131_llc.fits). The file was likely only partially downloaded. Please remove it from your disk and try again."
     ]
    }
   ],
   "source": [
    "kics = ['KIC4448777']\n",
    "search = perform_search(kics[0])\n",
    "files = check_lc_cache(search)\n",
    "lc = load_fits(files)\n",
    "pg = lc.to_periodogram(normalization='psd').flatten()\n",
    "f, s = pg.frequency.value, pg.power.value"
   ]
  },
  {
   "cell_type": "code",
   "execution_count": null,
   "metadata": {},
   "outputs": [],
   "source": [
    "#s = pickle.load(open('/home/nielsemb/.lightkurve-cache/SearchResults/KIC4448777_Kepler_long_20200413.lksearchresult', \"rb\"))"
   ]
  },
  {
   "cell_type": "code",
   "execution_count": null,
   "metadata": {},
   "outputs": [],
   "source": [
    "#s"
   ]
  },
  {
   "cell_type": "code",
   "execution_count": 18,
   "metadata": {},
   "outputs": [
    {
     "data": {
      "text/plain": [
       "LightCurveFileCollection of 18 objects:\n",
       "\tKIC 4448777 (18 KeplerLightCurveFiles) Quarters: 0,1,2,3,4,5,6,7,8,9,10,11,12,13,14,15,16,17"
      ]
     },
     "execution_count": 18,
     "metadata": {},
     "output_type": "execute_result"
    }
   ],
   "source": [
    "search.download_all()"
   ]
  },
  {
   "cell_type": "code",
   "execution_count": null,
   "metadata": {},
   "outputs": [],
   "source": []
  }
 ],
 "metadata": {
  "kernelspec": {
   "display_name": "Python 3",
   "language": "python",
   "name": "python3"
  },
  "language_info": {
   "codemirror_mode": {
    "name": "ipython",
    "version": 3
   },
   "file_extension": ".py",
   "mimetype": "text/x-python",
   "name": "python",
   "nbconvert_exporter": "python",
   "pygments_lexer": "ipython3",
   "version": "3.7.5"
  }
 },
 "nbformat": 4,
 "nbformat_minor": 4
}
