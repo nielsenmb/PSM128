{
 "cells": [
  {
   "cell_type": "code",
   "execution_count": 1,
   "metadata": {},
   "outputs": [],
   "source": [
    "from LightkurveCacheAccess import perform_search, check_lc_cache, load_fits\n",
    "import lightkurve as lk\n",
    "from get_dnu import get_dnu\n",
    "import pandas as pd\n",
    "from astropy.io import ascii\n",
    "import numpy as np\n",
    "from tqdm import tqdm\n",
    "from matplotlib.pyplot import *"
   ]
  },
  {
   "cell_type": "code",
   "execution_count": 2,
   "metadata": {},
   "outputs": [],
   "source": [
    "cache_dir = '/home/nielsemb/work/Bluebear_data/data/'"
   ]
  },
  {
   "cell_type": "code",
   "execution_count": 3,
   "metadata": {},
   "outputs": [],
   "source": [
    "pdata = pd.read_csv('prior_data.csv')"
   ]
  },
  {
   "cell_type": "code",
   "execution_count": 4,
   "metadata": {},
   "outputs": [
    {
     "name": "stderr",
     "output_type": "stream",
     "text": [
      "WARNING: UnitsWarning: '[cm/s2]' did not parse as cds unit: Invalid character at col 0 If this is meant to be a custom unit, define it with 'u.def_unit'. To have it recognized inside a file reader or other code, enable it with 'u.add_enabled_units'. For details, see http://docs.astropy.org/en/latest/units/combining_and_defining.html [astropy.units.core]\n",
      "WARNING: UnitsWarning: '[Sun]' did not parse as cds unit: Invalid character at col 0 If this is meant to be a custom unit, define it with 'u.def_unit'. To have it recognized inside a file reader or other code, enable it with 'u.add_enabled_units'. For details, see http://docs.astropy.org/en/latest/units/combining_and_defining.html [astropy.units.core]\n"
     ]
    }
   ],
   "source": [
    "yu1 = ascii.read('table1.dat', format='cds', readme=\"ReadMe\")\n",
    "yu2 = ascii.read('table2.dat', format='cds',readme=\"ReadMe\")"
   ]
  },
  {
   "cell_type": "code",
   "execution_count": 5,
   "metadata": {},
   "outputs": [],
   "source": [
    "kics = ['KIC'+str(x) for x in yu1['KIC']]\n",
    "numaxs = [(x, y) for x,y in yu1[['numax', 'e_numax']]]\n",
    "teffs = [(x, y) for x,y in yu2[['Teff', 'e_Teff']]]"
   ]
  },
  {
   "cell_type": "code",
   "execution_count": 6,
   "metadata": {},
   "outputs": [
    {
     "name": "stderr",
     "output_type": "stream",
     "text": [
      "100%|██████████| 1/1 [00:51<00:00, 51.38s/it]"
     ]
    },
    {
     "name": "stdout",
     "output_type": "stream",
     "text": [
      "2.1834407682022645 5.6281088848344325\n"
     ]
    },
    {
     "name": "stderr",
     "output_type": "stream",
     "text": [
      "\n"
     ]
    }
   ],
   "source": [
    "dnus = np.zeros(len(kics))-np.inf\n",
    "\n",
    "N = 1 #len(dnus)\n",
    "\n",
    "for i in range(N):\n",
    "    search = perform_search(kics[i], download_dir = cache_dir)\n",
    "    files = check_lc_cache(search, download_dir = cache_dir)\n",
    "    lc = load_fits(files)\n",
    "    pg = lc.to_periodogram(normalization='psd').flatten()\n",
    "    f, s = pg.frequency.value, pg.power.value\n",
    "    try:\n",
    "        dnus[i] = get_dnu(numaxs[i], teffs[i], f, s, pdata, KDEsize = 500)\n",
    "    except:\n",
    "        continue\n",
    "\n",
    "pd.DataFrame({'kics': kics, 'dnus': dnus}).to_csv('dnus.csv')\n"
   ]
  },
  {
   "cell_type": "code",
   "execution_count": null,
   "metadata": {},
   "outputs": [],
   "source": []
  },
  {
   "cell_type": "code",
   "execution_count": null,
   "metadata": {},
   "outputs": [],
   "source": []
  },
  {
   "cell_type": "code",
   "execution_count": null,
   "metadata": {},
   "outputs": [],
   "source": [
    "# N = 30\n",
    "# dnus = np.zeros(N)-np.inf\n",
    "# k = 13\n",
    "# for i in range(N):\n",
    "#     search = perform_search(kics[k], download_dir = cache_dir)\n",
    "#     files = check_lc_cache(search, download_dir = cache_dir)\n",
    "#     lc = load_fits(files)\n",
    "#     pg = lc.to_periodogram(normalization='psd').flatten()\n",
    "#     f, s = pg.frequency.value, pg.power.value\n",
    "#     try:\n",
    "#         dnus[i] = get_dnu(numaxs[k], teffs[k], f, s, pdata, KDEsize = 500)\n",
    "#     except:\n",
    "#         continue\n"
   ]
  },
  {
   "cell_type": "code",
   "execution_count": null,
   "metadata": {},
   "outputs": [],
   "source": []
  },
  {
   "cell_type": "code",
   "execution_count": null,
   "metadata": {},
   "outputs": [],
   "source": []
  }
 ],
 "metadata": {
  "kernelspec": {
   "display_name": "Python 3",
   "language": "python",
   "name": "python3"
  },
  "language_info": {
   "codemirror_mode": {
    "name": "ipython",
    "version": 3
   },
   "file_extension": ".py",
   "mimetype": "text/x-python",
   "name": "python",
   "nbconvert_exporter": "python",
   "pygments_lexer": "ipython3",
   "version": "3.7.5"
  }
 },
 "nbformat": 4,
 "nbformat_minor": 4
}
